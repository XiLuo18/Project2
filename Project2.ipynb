{
 "cells": [
  {
   "cell_type": "code",
   "execution_count": 26,
   "id": "898368c9-5249-465d-8ae1-0e5aaa99628f",
   "metadata": {},
   "outputs": [],
   "source": [
    "import numpy as np\n",
    "import pandas as pd\n",
    "import matplotlib.pyplot as plt\n",
    "import seaborn as sns\n",
    "from sklearn import preprocessing\n",
    "from sklearn.model_selection import train_test_split\n",
    "from imblearn.under_sampling import RandomUnderSampler\n",
    "from xgboost import XGBClassifier\n",
    "from sklearn.metrics import accuracy_score, classification_report, confusion_matrix"
   ]
  },
  {
   "cell_type": "code",
   "execution_count": 27,
   "id": "dfd4e17e-6175-42d2-9e2b-c04232d4e027",
   "metadata": {},
   "outputs": [
    {
     "data": {
      "text/html": [
       "<div>\n",
       "<style scoped>\n",
       "    .dataframe tbody tr th:only-of-type {\n",
       "        vertical-align: middle;\n",
       "    }\n",
       "\n",
       "    .dataframe tbody tr th {\n",
       "        vertical-align: top;\n",
       "    }\n",
       "\n",
       "    .dataframe thead th {\n",
       "        text-align: right;\n",
       "    }\n",
       "</style>\n",
       "<table border=\"1\" class=\"dataframe\">\n",
       "  <thead>\n",
       "    <tr style=\"text-align: right;\">\n",
       "      <th></th>\n",
       "      <th>Date received</th>\n",
       "      <th>Product</th>\n",
       "      <th>Sub-product</th>\n",
       "      <th>Issue</th>\n",
       "      <th>Sub-issue</th>\n",
       "      <th>Consumer complaint narrative</th>\n",
       "      <th>Company public response</th>\n",
       "      <th>Company</th>\n",
       "      <th>State</th>\n",
       "      <th>ZIP code</th>\n",
       "      <th>Tags</th>\n",
       "      <th>Consumer consent provided?</th>\n",
       "      <th>Submitted via</th>\n",
       "      <th>Date sent to company</th>\n",
       "      <th>Company response to consumer</th>\n",
       "      <th>Timely response?</th>\n",
       "      <th>Consumer disputed?</th>\n",
       "      <th>Complaint ID</th>\n",
       "    </tr>\n",
       "  </thead>\n",
       "  <tbody>\n",
       "    <tr>\n",
       "      <th>0</th>\n",
       "      <td>2016-10-26</td>\n",
       "      <td>Money transfers</td>\n",
       "      <td>International money transfer</td>\n",
       "      <td>Other transaction issues</td>\n",
       "      <td>NaN</td>\n",
       "      <td>To whom it concerns, I would like to file a fo...</td>\n",
       "      <td>Company has responded to the consumer and the ...</td>\n",
       "      <td>CITIBANK, N.A.</td>\n",
       "      <td>NaN</td>\n",
       "      <td>NaN</td>\n",
       "      <td>NaN</td>\n",
       "      <td>Consent provided</td>\n",
       "      <td>Web</td>\n",
       "      <td>2016-10-29</td>\n",
       "      <td>Closed with explanation</td>\n",
       "      <td>Yes</td>\n",
       "      <td>No</td>\n",
       "      <td>2180490</td>\n",
       "    </tr>\n",
       "    <tr>\n",
       "      <th>1</th>\n",
       "      <td>2015-03-27</td>\n",
       "      <td>Bank account or service</td>\n",
       "      <td>Other bank product/service</td>\n",
       "      <td>Account opening, closing, or management</td>\n",
       "      <td>NaN</td>\n",
       "      <td>My name is XXXX XXXX XXXX and huband name is X...</td>\n",
       "      <td>Company chooses not to provide a public response</td>\n",
       "      <td>CITIBANK, N.A.</td>\n",
       "      <td>PA</td>\n",
       "      <td>151XX</td>\n",
       "      <td>Older American</td>\n",
       "      <td>Consent provided</td>\n",
       "      <td>Web</td>\n",
       "      <td>2015-03-27</td>\n",
       "      <td>Closed with explanation</td>\n",
       "      <td>Yes</td>\n",
       "      <td>No</td>\n",
       "      <td>1305453</td>\n",
       "    </tr>\n",
       "    <tr>\n",
       "      <th>2</th>\n",
       "      <td>2015-04-20</td>\n",
       "      <td>Bank account or service</td>\n",
       "      <td>Other bank product/service</td>\n",
       "      <td>Making/receiving payments, sending money</td>\n",
       "      <td>NaN</td>\n",
       "      <td>XXXX 2015 : I called to make a payment on XXXX...</td>\n",
       "      <td>Company chooses not to provide a public response</td>\n",
       "      <td>U.S. BANCORP</td>\n",
       "      <td>PA</td>\n",
       "      <td>152XX</td>\n",
       "      <td>NaN</td>\n",
       "      <td>Consent provided</td>\n",
       "      <td>Web</td>\n",
       "      <td>2015-04-22</td>\n",
       "      <td>Closed with monetary relief</td>\n",
       "      <td>Yes</td>\n",
       "      <td>No</td>\n",
       "      <td>1337613</td>\n",
       "    </tr>\n",
       "    <tr>\n",
       "      <th>3</th>\n",
       "      <td>2013-04-29</td>\n",
       "      <td>Mortgage</td>\n",
       "      <td>Conventional fixed mortgage</td>\n",
       "      <td>Application, originator, mortgage broker</td>\n",
       "      <td>NaN</td>\n",
       "      <td>NaN</td>\n",
       "      <td>NaN</td>\n",
       "      <td>JPMORGAN CHASE &amp; CO.</td>\n",
       "      <td>VA</td>\n",
       "      <td>22406</td>\n",
       "      <td>Servicemember</td>\n",
       "      <td>NaN</td>\n",
       "      <td>Phone</td>\n",
       "      <td>2013-04-30</td>\n",
       "      <td>Closed with explanation</td>\n",
       "      <td>Yes</td>\n",
       "      <td>Yes</td>\n",
       "      <td>393900</td>\n",
       "    </tr>\n",
       "    <tr>\n",
       "      <th>4</th>\n",
       "      <td>2013-05-29</td>\n",
       "      <td>Mortgage</td>\n",
       "      <td>Other mortgage</td>\n",
       "      <td>Loan modification,collection,foreclosure</td>\n",
       "      <td>NaN</td>\n",
       "      <td>NaN</td>\n",
       "      <td>NaN</td>\n",
       "      <td>BANK OF AMERICA, NATIONAL ASSOCIATION</td>\n",
       "      <td>GA</td>\n",
       "      <td>30044</td>\n",
       "      <td>NaN</td>\n",
       "      <td>NaN</td>\n",
       "      <td>Referral</td>\n",
       "      <td>2013-05-31</td>\n",
       "      <td>Closed with explanation</td>\n",
       "      <td>Yes</td>\n",
       "      <td>No</td>\n",
       "      <td>418647</td>\n",
       "    </tr>\n",
       "  </tbody>\n",
       "</table>\n",
       "</div>"
      ],
      "text/plain": [
       "  Date received                  Product                   Sub-product  \\\n",
       "0    2016-10-26          Money transfers  International money transfer   \n",
       "1    2015-03-27  Bank account or service    Other bank product/service   \n",
       "2    2015-04-20  Bank account or service    Other bank product/service   \n",
       "3    2013-04-29                 Mortgage   Conventional fixed mortgage   \n",
       "4    2013-05-29                 Mortgage                Other mortgage   \n",
       "\n",
       "                                      Issue Sub-issue  \\\n",
       "0                  Other transaction issues       NaN   \n",
       "1   Account opening, closing, or management       NaN   \n",
       "2  Making/receiving payments, sending money       NaN   \n",
       "3  Application, originator, mortgage broker       NaN   \n",
       "4  Loan modification,collection,foreclosure       NaN   \n",
       "\n",
       "                        Consumer complaint narrative  \\\n",
       "0  To whom it concerns, I would like to file a fo...   \n",
       "1  My name is XXXX XXXX XXXX and huband name is X...   \n",
       "2  XXXX 2015 : I called to make a payment on XXXX...   \n",
       "3                                                NaN   \n",
       "4                                                NaN   \n",
       "\n",
       "                             Company public response  \\\n",
       "0  Company has responded to the consumer and the ...   \n",
       "1   Company chooses not to provide a public response   \n",
       "2   Company chooses not to provide a public response   \n",
       "3                                                NaN   \n",
       "4                                                NaN   \n",
       "\n",
       "                                 Company State ZIP code            Tags  \\\n",
       "0                         CITIBANK, N.A.   NaN      NaN             NaN   \n",
       "1                         CITIBANK, N.A.    PA    151XX  Older American   \n",
       "2                           U.S. BANCORP    PA    152XX             NaN   \n",
       "3                   JPMORGAN CHASE & CO.    VA    22406   Servicemember   \n",
       "4  BANK OF AMERICA, NATIONAL ASSOCIATION    GA    30044             NaN   \n",
       "\n",
       "  Consumer consent provided? Submitted via Date sent to company  \\\n",
       "0           Consent provided           Web           2016-10-29   \n",
       "1           Consent provided           Web           2015-03-27   \n",
       "2           Consent provided           Web           2015-04-22   \n",
       "3                        NaN         Phone           2013-04-30   \n",
       "4                        NaN      Referral           2013-05-31   \n",
       "\n",
       "  Company response to consumer Timely response? Consumer disputed?  \\\n",
       "0      Closed with explanation              Yes                 No   \n",
       "1      Closed with explanation              Yes                 No   \n",
       "2  Closed with monetary relief              Yes                 No   \n",
       "3      Closed with explanation              Yes                Yes   \n",
       "4      Closed with explanation              Yes                 No   \n",
       "\n",
       "   Complaint ID  \n",
       "0       2180490  \n",
       "1       1305453  \n",
       "2       1337613  \n",
       "3        393900  \n",
       "4        418647  "
      ]
     },
     "execution_count": 27,
     "metadata": {},
     "output_type": "execute_result"
    }
   ],
   "source": [
    "df=pd.read_csv('shared/complaints_25Nov21.csv')\n",
    "df.head()"
   ]
  },
  {
   "cell_type": "code",
   "execution_count": 28,
   "id": "74789f27-773f-477e-a3bb-5d8fe64f14e2",
   "metadata": {},
   "outputs": [
    {
     "data": {
      "text/html": [
       "<div>\n",
       "<style scoped>\n",
       "    .dataframe tbody tr th:only-of-type {\n",
       "        vertical-align: middle;\n",
       "    }\n",
       "\n",
       "    .dataframe tbody tr th {\n",
       "        vertical-align: top;\n",
       "    }\n",
       "\n",
       "    .dataframe thead th {\n",
       "        text-align: right;\n",
       "    }\n",
       "</style>\n",
       "<table border=\"1\" class=\"dataframe\">\n",
       "  <thead>\n",
       "    <tr style=\"text-align: right;\">\n",
       "      <th></th>\n",
       "      <th>Complaint ID</th>\n",
       "    </tr>\n",
       "  </thead>\n",
       "  <tbody>\n",
       "    <tr>\n",
       "      <th>count</th>\n",
       "      <td>2.072600e+05</td>\n",
       "    </tr>\n",
       "    <tr>\n",
       "      <th>mean</th>\n",
       "      <td>1.028619e+06</td>\n",
       "    </tr>\n",
       "    <tr>\n",
       "      <th>std</th>\n",
       "      <td>7.533348e+05</td>\n",
       "    </tr>\n",
       "    <tr>\n",
       "      <th>min</th>\n",
       "      <td>2.200000e+01</td>\n",
       "    </tr>\n",
       "    <tr>\n",
       "      <th>25%</th>\n",
       "      <td>3.456218e+05</td>\n",
       "    </tr>\n",
       "    <tr>\n",
       "      <th>50%</th>\n",
       "      <td>9.209720e+05</td>\n",
       "    </tr>\n",
       "    <tr>\n",
       "      <th>75%</th>\n",
       "      <td>1.710704e+06</td>\n",
       "    </tr>\n",
       "    <tr>\n",
       "      <th>max</th>\n",
       "      <td>2.412707e+06</td>\n",
       "    </tr>\n",
       "  </tbody>\n",
       "</table>\n",
       "</div>"
      ],
      "text/plain": [
       "       Complaint ID\n",
       "count  2.072600e+05\n",
       "mean   1.028619e+06\n",
       "std    7.533348e+05\n",
       "min    2.200000e+01\n",
       "25%    3.456218e+05\n",
       "50%    9.209720e+05\n",
       "75%    1.710704e+06\n",
       "max    2.412707e+06"
      ]
     },
     "execution_count": 28,
     "metadata": {},
     "output_type": "execute_result"
    }
   ],
   "source": [
    "df.describe()"
   ]
  },
  {
   "cell_type": "code",
   "execution_count": 29,
   "id": "e608a8aa-6602-4376-a9fd-ce3a1479492a",
   "metadata": {},
   "outputs": [],
   "source": [
    "# Assuming your DataFrame is named complaints and it's already loaded\n",
    "# Select only the specified columns for X\n",
    "X = df[['Product', 'Sub-product', 'Issue', 'State', 'Tags', 'Submitted via', 'Company response to consumer', 'Timely response?']]\n",
    "\n",
    "# Convert categorical variables to dummy variables\n",
    "X = pd.get_dummies(X, drop_first=True)\n",
    "\n",
    "# Use 'Consumer disputed?' as your y-variable and convert it to 0s and 1s\n",
    "le = preprocessing.LabelEncoder()\n",
    "y = le.fit_transform(df['Consumer disputed?'])"
   ]
  },
  {
   "cell_type": "code",
   "execution_count": 23,
   "id": "e2dbe851-0069-4b7e-b878-b71efbeca95c",
   "metadata": {},
   "outputs": [],
   "source": [
    "X_train, X_test, y_train, y_test = train_test_split(X, y, test_size=0.2, random_state = 123)"
   ]
  },
  {
   "cell_type": "code",
   "execution_count": 36,
   "id": "32195cc7-738d-4520-a2ec-962c53497b1e",
   "metadata": {},
   "outputs": [
    {
     "name": "stdout",
     "output_type": "stream",
     "text": [
      "Proportion of disputed complaints in the training dataset: 21.68%\n",
      "Applying random undersampling to balance the dataset.\n",
      "After undersampling, new proportion of disputed complaints: 50.00%\n"
     ]
    }
   ],
   "source": [
    "# Assuming y_train is already defined\n",
    "disputed_proportion = np.mean(y_train)\n",
    "print(f\"Proportion of disputed complaints in the training dataset: {disputed_proportion * 100:.2f}%\")\n",
    "\n",
    "if disputed_proportion < 0.30:\n",
    "    print(\"Applying random undersampling to balance the dataset.\")\n",
    "    undersampler = RandomUnderSampler(random_state=123)\n",
    "    X_train_resampled, y_train_resampled = undersampler.fit_resample(X_train, y_train)\n",
    "    print(f\"After undersampling, new proportion of disputed complaints: {np.mean(y_train_resampled) * 100:.2f}%\")\n",
    "else:\n",
    "    print(\"No need for undersampling; proportion of disputed complaints is sufficient.\")\n",
    "    X_train_resampled, y_train_resampled = X_train, y_train\n"
   ]
  },
  {
   "cell_type": "code",
   "execution_count": 77,
   "id": "7cfa9185-2c30-4f87-9d93-ec3a3b5e943c",
   "metadata": {},
   "outputs": [
    {
     "name": "stdout",
     "output_type": "stream",
     "text": [
      "Accuracy: 0.5491411753353276\n",
      "              precision    recall  f1-score   support\n",
      "\n",
      "           0       0.84      0.53      0.65     32504\n",
      "           1       0.27      0.63      0.38      8948\n",
      "\n",
      "    accuracy                           0.55     41452\n",
      "   macro avg       0.55      0.58      0.51     41452\n",
      "weighted avg       0.72      0.55      0.59     41452\n",
      "\n",
      "Total cost with model predictions: 16565290\n"
     ]
    }
   ],
   "source": [
    "# Assuming X_train_resampled, y_train_resampled are your training data after preprocessing and optional resampling\n",
    "model_xgb = XGBClassifier(random_state=123)\n",
    "model_xgb = XGBClassifier(use_label_encoder=False, objective= 'binary:logistic')\n",
    "model_xgb.fit(X_train_resampled, y_train_resampled)\n",
    "\n",
    "# Predict probabilities for the positive class (Disputed complaints)\n",
    "y_prob = model_xgb.predict_proba(X_test)[:, 1]\n",
    "\n",
    "# Convert probabilities to binary predictions using the default threshold\n",
    "y_pred_thresholded = (y_prob > 0.5).astype(int)\n",
    "\n",
    "# And then evaluate the predictions\n",
    "from sklearn.metrics import accuracy_score, classification_report\n",
    "\n",
    "print(\"Accuracy:\", accuracy_score(y_test, y_pred))\n",
    "print(classification_report(y_test, y_pred))\n",
    "\n",
    "# Calculate the total cost based on the model predictions\n",
    "total_cost_with_model = (np.sum(y_pred_thresholded) * (cost_disputed + cost_extra_diligence)) + ((len(y_test) - np.sum(y_pred_thresholded)) * cost_nondisputed)\n",
    "\n",
    "print(\"Total cost with model predictions:\", total_cost_with_model)\n"
   ]
  },
  {
   "cell_type": "code",
   "execution_count": 59,
   "id": "e5fcb2fb-75cf-4ad8-8a1e-f28fd3e1a02a",
   "metadata": {},
   "outputs": [
    {
     "name": "stdout",
     "output_type": "stream",
     "text": [
      "\n",
      "Classification Report:\n",
      "               precision    recall  f1-score   support\n",
      "\n",
      "           0       0.84      0.53      0.65     32504\n",
      "           1       0.27      0.63      0.38      8948\n",
      "\n",
      "    accuracy                           0.55     41452\n",
      "   macro avg       0.55      0.58      0.51     41452\n",
      "weighted avg       0.72      0.55      0.59     41452\n",
      "\n",
      "\n",
      "Confusion Matrix:\n",
      " [[17108 15396]\n",
      " [ 3293  5655]]\n"
     ]
    },
    {
     "data": {
      "text/html": [
       "<div>\n",
       "<style scoped>\n",
       "    .dataframe tbody tr th:only-of-type {\n",
       "        vertical-align: middle;\n",
       "    }\n",
       "\n",
       "    .dataframe tbody tr th {\n",
       "        vertical-align: top;\n",
       "    }\n",
       "\n",
       "    .dataframe thead th {\n",
       "        text-align: right;\n",
       "    }\n",
       "</style>\n",
       "<table border=\"1\" class=\"dataframe\">\n",
       "  <thead>\n",
       "    <tr style=\"text-align: right;\">\n",
       "      <th></th>\n",
       "      <th>Not Disputed</th>\n",
       "      <th>Disputed</th>\n",
       "    </tr>\n",
       "  </thead>\n",
       "  <tbody>\n",
       "    <tr>\n",
       "      <th>Not Disputed</th>\n",
       "      <td>17108</td>\n",
       "      <td>15396</td>\n",
       "    </tr>\n",
       "    <tr>\n",
       "      <th>Disputed</th>\n",
       "      <td>3293</td>\n",
       "      <td>5655</td>\n",
       "    </tr>\n",
       "  </tbody>\n",
       "</table>\n",
       "</div>"
      ],
      "text/plain": [
       "              Not Disputed  Disputed\n",
       "Not Disputed         17108     15396\n",
       "Disputed              3293      5655"
      ]
     },
     "execution_count": 59,
     "metadata": {},
     "output_type": "execute_result"
    }
   ],
   "source": [
    "# Classification report\n",
    "print(\"\\nClassification Report:\\n\", classification_report(y_test, y_pred))\n",
    "\n",
    "# Confusion matrix\n",
    "cm = confusion_matrix(y_test, y_pred)\n",
    "print(\"\\nConfusion Matrix:\\n\", cm)\n",
    "\n",
    "# Optionally, to make the confusion matrix more readable:\n",
    "labels = ['Not Disputed', 'Disputed']  # Assuming 0: 'Not Disputed', 1: 'Disputed'\n",
    "pd.DataFrame(cm, index=labels, columns=labels)"
   ]
  },
  {
   "cell_type": "code",
   "execution_count": 75,
   "id": "8dcb54d2-5320-4d4a-ba15-35c1c84d9fbd",
   "metadata": {},
   "outputs": [
    {
     "name": "stdout",
     "output_type": "stream",
     "text": [
      "Total cost with model predictions: 16565290\n"
     ]
    }
   ],
   "source": [
    "# Assuming the cost structure as defined\n",
    "cost_disputed = 600\n",
    "cost_extra_diligence = 90\n",
    "cost_nondisputed = 100\n",
    "\n",
    "# Predict probabilities for the positive class (Disputed complaints)\n",
    "y_prob = model_xgb.predict_proba(X_test)[:, 1]\n",
    "\n",
    "# Convert probabilities to binary predictions using the default threshold\n",
    "y_pred_thresholded = (y_prob > 0.5).astype(int)\n",
    "\n",
    "# Calculate the total cost based on the model predictions\n",
    "total_cost_with_model = (np.sum(y_pred_thresholded) * (cost_disputed + cost_extra_diligence)) + ((len(y_test) - np.sum(y_pred_thresholded)) * cost_nondisputed)\n",
    "\n",
    "print(\"Total cost with model predictions:\", total_cost_with_model)"
   ]
  },
  {
   "cell_type": "code",
   "execution_count": 73,
   "id": "5a5a4c13-5ead-44d1-98b8-4f8631830429",
   "metadata": {},
   "outputs": [
    {
     "name": "stdout",
     "output_type": "stream",
     "text": [
      "Total Cost with Model: $10004840\n",
      "Base-Case Total Cost without Model: $8619200\n"
     ]
    }
   ],
   "source": [
    "# Assuming costs as per the structure\n",
    "cost_disputed = 600\n",
    "cost_nondisputed = 100\n",
    "cost_due_diligence = 90\n",
    "\n",
    "# Model-based costs\n",
    "cost_TP = cm[1, 1] * cost_disputed\n",
    "cost_FP = cm[0, 1] * (cost_nondisputed + cost_due_diligence)\n",
    "cost_TN = cm[0, 0] * cost_nondisputed\n",
    "cost_FN = cm[1, 0] * cost_disputed\n",
    "\n",
    "total_cost_model = cost_TP + cost_FP + cost_TN + cost_FN\n",
    "\n",
    "# Base-case costs without using a model\n",
    "total_disputed = cm[1, 0] + cm[1, 1]  # Actual disputed complaints\n",
    "total_nondisputed = cm[0, 0] + cm[0, 1]  # Actual non-disputed complaints\n",
    "\n",
    "total_cost_base_case = (total_disputed * cost_disputed) + (total_nondisputed * cost_nondisputed)\n",
    "\n",
    "print(f\"Total Cost with Model: ${total_cost_model}\")\n",
    "print(f\"Base-Case Total Cost without Model: ${total_cost_base_case}\")"
   ]
  },
  {
   "cell_type": "code",
   "execution_count": 62,
   "id": "1b9cc1a9-e938-4001-8e5c-386e082c01f2",
   "metadata": {},
   "outputs": [
    {
     "name": "stdout",
     "output_type": "stream",
     "text": [
      "Proportion of consumers who raised a dispute in the test set: 0.21586413200810575\n"
     ]
    }
   ],
   "source": [
    "# Count the number of disputed complaints in the test set\n",
    "num_disputed = np.sum(y_test)\n",
    "\n",
    "# Calculate the total number of complaints in the test set\n",
    "total_complaints = len(y_test)\n",
    "\n",
    "# Calculate the proportion of disputes\n",
    "proportion_disputes = num_disputed / total_complaints\n",
    "\n",
    "print(\"Proportion of consumers who raised a dispute in the test set:\", proportion_disputes)\n"
   ]
  },
  {
   "cell_type": "code",
   "execution_count": 63,
   "id": "2dcb93ca-873f-4000-b464-157f21b0d8f1",
   "metadata": {},
   "outputs": [
    {
     "name": "stdout",
     "output_type": "stream",
     "text": [
      "Proportion of consumers who raised a dispute in the training set after random undersampling: 0.5\n"
     ]
    }
   ],
   "source": [
    "# Count the number of disputed complaints in the training set after random undersampling\n",
    "num_disputed_train = np.sum(y_train_resampled)\n",
    "\n",
    "# Calculate the total number of complaints in the training set after random undersampling\n",
    "total_complaints_train = len(y_train_resampled)\n",
    "\n",
    "# Calculate the proportion of disputes in the training set\n",
    "proportion_disputes_train = num_disputed_train / total_complaints_train\n",
    "\n",
    "print(\"Proportion of consumers who raised a dispute in the training set after random undersampling:\", proportion_disputes_train)\n"
   ]
  },
  {
   "cell_type": "code",
   "execution_count": 80,
   "id": "57d0f6c5-70fe-4d09-b19c-daf7876aa9d7",
   "metadata": {},
   "outputs": [
    {
     "name": "stdout",
     "output_type": "stream",
     "text": [
      "Recall for the category 'Consumer disputed?' = 'Yes' on the test set: 0.6319848010728655\n"
     ]
    }
   ],
   "source": [
    "from sklearn.metrics import classification_report\n",
    "\n",
    "# Assuming you have trained and fitted the XGBClassifier model and made predictions\n",
    "y_pred = model_xgb.predict(X_test)\n",
    "\n",
    "# Generate a classification report\n",
    "report = classification_report(y_test, y_pred, output_dict=True)\n",
    "\n",
    "# Extract the recall for the category 'Consumer disputed?' = 'Yes'\n",
    "recall_yes = report['1']['recall']\n",
    "\n",
    "print(\"Recall for the category 'Consumer disputed?' = 'Yes' on the test set:\", recall_yes)\n"
   ]
  },
  {
   "cell_type": "code",
   "execution_count": 84,
   "id": "1d0be6cc-26fa-41ad-87b1-7e714c28987f",
   "metadata": {},
   "outputs": [
    {
     "name": "stdout",
     "output_type": "stream",
     "text": [
      "Total cost without using a model: 8619200\n"
     ]
    }
   ],
   "source": [
    "# Assuming the cost structure as defined earlier\n",
    "cost_disputed = 600\n",
    "cost_nondisputed = 100\n",
    "\n",
    "# Count the number of disputed complaints in the test set\n",
    "num_disputed_test = np.sum(y_test)\n",
    "\n",
    "# Calculate the total number of complaints in the test set\n",
    "total_complaints_test = len(y_test)\n",
    "\n",
    "# Calculate the total cost without using a model\n",
    "total_cost_no_model = (num_disputed_test * cost_disputed) + ((total_complaints_test - num_disputed_test) * cost_nondisputed)\n",
    "\n",
    "print(\"Total cost without using a model:\", total_cost_no_model)"
   ]
  },
  {
   "cell_type": "code",
   "execution_count": 81,
   "id": "a01f4fb0-f79f-4ce1-8768-cf90aec2cf63",
   "metadata": {},
   "outputs": [
    {
     "name": "stdout",
     "output_type": "stream",
     "text": [
      "Optimal threshold: 0.43434343434343436\n",
      "Minimum cost: $7599970\n"
     ]
    }
   ],
   "source": [
    "# Get the predicted probabilities of the positive class\n",
    "y_pred_proba = model_xgb.predict_proba(X_test)[:, 1]\n",
    "\n",
    "# Initialize the minimum cost and optimal threshold\n",
    "min_cost = np.inf\n",
    "optimal_threshold = 0\n",
    "\n",
    "# Iterate over a range of possible thresholds\n",
    "for threshold in np.linspace(0, 1, 100):\n",
    "    # Convert predicted probabilities to class labels based on the current threshold\n",
    "    y_pred = (y_pred_proba >= threshold).astype(int)\n",
    "    \n",
    "    # Calculate the confusion matrix\n",
    "    matrix = confusion_matrix(y_test, y_pred)\n",
    "    \n",
    "    # Calculate the total cost\n",
    "    tn, fp, fn, tp = matrix.ravel()\n",
    "    total_cost = tn*100 + fp*190 + fn*600 + tp*190\n",
    "    \n",
    "    # If the current cost is less than the minimum cost, update the minimum cost and optimal threshold\n",
    "    if total_cost < min_cost:\n",
    "        min_cost = total_cost\n",
    "        optimal_threshold = threshold\n",
    "\n",
    "# Print the optimal threshold and minimum cost\n",
    "print(f'Optimal threshold: {optimal_threshold}')\n",
    "print(f'Minimum cost: ${min_cost}')"
   ]
  },
  {
   "cell_type": "code",
   "execution_count": null,
   "id": "09bbb554-c56a-4d2b-967b-7d1566dd07fc",
   "metadata": {},
   "outputs": [],
   "source": []
  }
 ],
 "metadata": {
  "kernelspec": {
   "display_name": "Python [conda env:mggy8413v2]",
   "language": "python",
   "name": "conda-env-mggy8413v2-py"
  },
  "language_info": {
   "codemirror_mode": {
    "name": "ipython",
    "version": 3
   },
   "file_extension": ".py",
   "mimetype": "text/x-python",
   "name": "python",
   "nbconvert_exporter": "python",
   "pygments_lexer": "ipython3",
   "version": "3.11.7"
  }
 },
 "nbformat": 4,
 "nbformat_minor": 5
}
